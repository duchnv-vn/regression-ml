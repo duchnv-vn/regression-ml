{
 "cells": [
  {
   "cell_type": "code",
   "id": "initial_id",
   "metadata": {
    "collapsed": true,
    "ExecuteTime": {
     "end_time": "2025-06-04T15:32:44.033400Z",
     "start_time": "2025-06-04T15:32:43.362999Z"
    }
   },
   "source": [
    "import matplotlib.pyplot as plt\n",
    "import numpy as np\n",
    "\n",
    "from load_image import load_images, prepend_bias, load_label, one_hot_encode\n",
    "\n",
    "X_train = load_images(\"train-images-idx3-ubyte.gz\")\n",
    "Y_train_unencoded = load_label(\"train-labels-idx1-ubyte.gz\")\n",
    "Y_train = one_hot_encode(Y_train_unencoded, 10)\n",
    "\n",
    "print(X_train.shape)\n",
    "print(Y_train.shape)"
   ],
   "outputs": [
    {
     "name": "stdout",
     "output_type": "stream",
     "text": [
      "(60000, 784)\n",
      "(60000, 10)\n"
     ]
    }
   ],
   "execution_count": 2
  },
  {
   "metadata": {
    "ExecuteTime": {
     "end_time": "2025-06-04T15:32:44.122847Z",
     "start_time": "2025-06-04T15:32:44.037400Z"
    }
   },
   "cell_type": "code",
   "source": [
    "X_test = load_images(\"t10k-images-idx3-ubyte.gz\")\n",
    "Y_test = load_label(\"t10k-labels-idx1-ubyte.gz\")\n",
    "\n",
    "print(X_test.shape)\n",
    "print(Y_test.shape)"
   ],
   "id": "1f732077d996ef3c",
   "outputs": [
    {
     "name": "stdout",
     "output_type": "stream",
     "text": [
      "(10000, 784)\n",
      "(10000, 1)\n"
     ]
    }
   ],
   "execution_count": 3
  },
  {
   "metadata": {
    "ExecuteTime": {
     "end_time": "2025-06-04T15:36:54.743093Z",
     "start_time": "2025-06-04T15:32:44.125848Z"
    }
   },
   "cell_type": "code",
   "source": [
    "from multi_class_classification import train\n",
    "\n",
    "w = train(prepend_bias(X_train), Y_train, prepend_bias(X_test), Y_test, iter=200, lr=1e-5)\n",
    "\n"
   ],
   "id": "be4bb7d04a2cf027",
   "outputs": [
    {
     "name": "stdout",
     "output_type": "stream",
     "text": [
      "0 - Loss: 0.69314718055994539725, 9.80%\n",
      "20 - Loss: 0.12537827753717958879, 86.22%\n",
      "40 - Loss: 0.10833318007300121733, 87.81%\n",
      "60 - Loss: 0.10073465645889038977, 88.66%\n",
      "80 - Loss: 0.09625447074912732437, 89.22%\n",
      "100 - Loss: 0.09323166747023202416, 89.39%\n",
      "120 - Loss: 0.09102054184576144347, 89.65%\n",
      "140 - Loss: 0.08931386343762312552, 89.80%\n",
      "160 - Loss: 0.08794522401754774343, 90.02%\n",
      "180 - Loss: 0.08681589484704910209, 90.18%\n",
      "199 - Loss: 0.08590734483714086711, 90.32%\n",
      "200 - Loss: 0.08586319648804130455, 90.32%\n",
      "[[-1.43441362e-05 -2.36247068e-06 -1.70236439e-05 ... -5.91716534e-06\n",
      "  -4.35577627e-05 -2.18081760e-05]\n",
      " [ 0.00000000e+00  0.00000000e+00  0.00000000e+00 ...  0.00000000e+00\n",
      "   0.00000000e+00  0.00000000e+00]\n",
      " [ 0.00000000e+00  0.00000000e+00  0.00000000e+00 ...  0.00000000e+00\n",
      "   0.00000000e+00  0.00000000e+00]\n",
      " ...\n",
      " [ 0.00000000e+00  0.00000000e+00  0.00000000e+00 ...  0.00000000e+00\n",
      "   0.00000000e+00  0.00000000e+00]\n",
      " [ 0.00000000e+00  0.00000000e+00  0.00000000e+00 ...  0.00000000e+00\n",
      "   0.00000000e+00  0.00000000e+00]\n",
      " [ 0.00000000e+00  0.00000000e+00  0.00000000e+00 ...  0.00000000e+00\n",
      "   0.00000000e+00  0.00000000e+00]]\n"
     ]
    }
   ],
   "execution_count": 4
  },
  {
   "metadata": {},
   "cell_type": "code",
   "outputs": [],
   "execution_count": null,
   "source": "print(w)",
   "id": "d04e7b35a482fcd0"
  }
 ],
 "metadata": {
  "kernelspec": {
   "display_name": "Python 3",
   "language": "python",
   "name": "python3"
  },
  "language_info": {
   "codemirror_mode": {
    "name": "ipython",
    "version": 2
   },
   "file_extension": ".py",
   "mimetype": "text/x-python",
   "name": "python",
   "nbconvert_exporter": "python",
   "pygments_lexer": "ipython2",
   "version": "2.7.6"
  }
 },
 "nbformat": 4,
 "nbformat_minor": 5
}
