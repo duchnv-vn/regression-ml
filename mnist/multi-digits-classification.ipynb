{
 "cells": [
  {
   "cell_type": "code",
   "execution_count": null,
   "id": "initial_id",
   "metadata": {
    "collapsed": true
   },
   "outputs": [],
   "source": [
    "import matplotlib.pyplot as plt\n",
    "import numpy as np\n",
    "\n",
    "from load_image import load_images, prepend_bias, load_label, one_hot_encode\n",
    "\n",
    "DIGIT = 1\n",
    "\n",
    "X_train = load_images(\"train-images-idx3-ubyte.gz\")\n",
    "Y_train_unencoded = load_label(\"train-labels-idx1-ubyte.gz\")\n",
    "Y_train = one_hot_encode(Y_train_unencoded)\n",
    "\n",
    "print(X_train.shape)\n",
    "print(Y_train.shape)"
   ]
  },
  {
   "metadata": {},
   "cell_type": "code",
   "outputs": [],
   "execution_count": null,
   "source": "",
   "id": "be4bb7d04a2cf027"
  }
 ],
 "metadata": {
  "kernelspec": {
   "display_name": "Python 3",
   "language": "python",
   "name": "python3"
  },
  "language_info": {
   "codemirror_mode": {
    "name": "ipython",
    "version": 2
   },
   "file_extension": ".py",
   "mimetype": "text/x-python",
   "name": "python",
   "nbconvert_exporter": "python",
   "pygments_lexer": "ipython2",
   "version": "2.7.6"
  }
 },
 "nbformat": 4,
 "nbformat_minor": 5
}
