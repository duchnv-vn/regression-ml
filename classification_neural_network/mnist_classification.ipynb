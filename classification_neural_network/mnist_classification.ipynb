{
 "cells": [
  {
   "cell_type": "code",
   "id": "initial_id",
   "metadata": {
    "collapsed": true,
    "ExecuteTime": {
     "end_time": "2025-06-10T15:21:26.337344Z",
     "start_time": "2025-06-10T15:21:25.419299Z"
    }
   },
   "source": [
    "import numpy as np\n",
    "\n",
    "from neural_network import report\n",
    "from load_image import load_images, load_label, one_hot_encode\n",
    "\n",
    "X_train = load_images(\"train-images-idx3-ubyte.gz\")\n",
    "Y_train_unencoded = load_label(\"train-labels-idx1-ubyte.gz\")\n",
    "Y_train = one_hot_encode(Y_train_unencoded, 10)\n",
    "\n",
    "print(X_train.shape)\n",
    "print(Y_train.shape)"
   ],
   "outputs": [
    {
     "name": "stdout",
     "output_type": "stream",
     "text": [
      "(60000, 784)\n",
      "(60000, 10)\n"
     ]
    }
   ],
   "execution_count": 1
  },
  {
   "metadata": {
    "ExecuteTime": {
     "end_time": "2025-06-10T15:21:26.422825Z",
     "start_time": "2025-06-10T15:21:26.340344Z"
    }
   },
   "cell_type": "code",
   "source": [
    "X_test = load_images(\"t10k-images-idx3-ubyte.gz\")\n",
    "Y_test = load_label(\"t10k-labels-idx1-ubyte.gz\")\n",
    "\n",
    "print(X_test.shape)\n",
    "print(Y_test.shape)"
   ],
   "id": "9fa99d83a523fbaf",
   "outputs": [
    {
     "name": "stdout",
     "output_type": "stream",
     "text": [
      "(10000, 784)\n",
      "(10000, 1)\n"
     ]
    }
   ],
   "execution_count": 2
  },
  {
   "metadata": {},
   "cell_type": "code",
   "outputs": [],
   "execution_count": null,
   "source": "report(200, X_train, Y_train, X_test, Y_test)",
   "id": "d2c806b754aa9057"
  }
 ],
 "metadata": {
  "kernelspec": {
   "display_name": "Python 3",
   "language": "python",
   "name": "python3"
  },
  "language_info": {
   "codemirror_mode": {
    "name": "ipython",
    "version": 2
   },
   "file_extension": ".py",
   "mimetype": "text/x-python",
   "name": "python",
   "nbconvert_exporter": "python",
   "pygments_lexer": "ipython2",
   "version": "2.7.6"
  }
 },
 "nbformat": 4,
 "nbformat_minor": 5
}
