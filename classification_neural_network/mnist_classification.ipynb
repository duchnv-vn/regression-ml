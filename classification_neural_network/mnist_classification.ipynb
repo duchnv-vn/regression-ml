{
 "cells": [
  {
   "cell_type": "code",
   "id": "initial_id",
   "metadata": {
    "collapsed": true,
    "ExecuteTime": {
     "end_time": "2025-06-18T17:24:57.914081Z",
     "start_time": "2025-06-18T17:24:56.638893Z"
    }
   },
   "source": [
    "from load_image import load_images, load_label, one_hot_encode\n",
    "\n",
    "X_train = load_images(\"train-images-idx3-ubyte.gz\")\n",
    "Y_train_unencoded = load_label(\"train-labels-idx1-ubyte.gz\")\n",
    "Y_train = one_hot_encode(Y_train_unencoded, 10)\n",
    "\n",
    "print(X_train.shape)\n",
    "print(Y_train.shape)"
   ],
   "outputs": [
    {
     "name": "stdout",
     "output_type": "stream",
     "text": [
      "(60000, 784)\n",
      "(60000, 10)\n"
     ]
    }
   ],
   "execution_count": 11
  },
  {
   "metadata": {
    "ExecuteTime": {
     "end_time": "2025-06-18T17:24:58.046480Z",
     "start_time": "2025-06-18T17:24:57.958125Z"
    }
   },
   "cell_type": "code",
   "source": [
    "X_test = load_images(\"t10k-images-idx3-ubyte.gz\")\n",
    "Y_test = load_label(\"t10k-labels-idx1-ubyte.gz\")\n",
    "\n",
    "print(X_test.shape)\n",
    "print(Y_test.shape)"
   ],
   "id": "9fa99d83a523fbaf",
   "outputs": [
    {
     "name": "stdout",
     "output_type": "stream",
     "text": [
      "(10000, 784)\n",
      "(10000, 1)\n"
     ]
    }
   ],
   "execution_count": 12
  },
  {
   "metadata": {
    "ExecuteTime": {
     "end_time": "2025-06-18T17:31:19.867452Z",
     "start_time": "2025-06-18T17:24:58.126998Z"
    }
   },
   "cell_type": "code",
   "source": [
    "from neural_network import train\n",
    "\n",
    "w1, w2 = train(X_train, Y_train,\n",
    "               X_test, Y_test,\n",
    "               n_hidden_nodes=200, iterations=100, lr=0.01)"
   ],
   "id": "d2c806b754aa9057",
   "outputs": [
    {
     "name": "stdout",
     "output_type": "stream",
     "text": [
      "Iteration:     0, Loss: 2.35637973, Accuracy: 10.49%\n",
      "Iteration:     1, Loss: 2.31815758, Accuracy: 12.13%\n",
      "Iteration:     2, Loss: 2.28227862, Accuracy: 13.74%\n",
      "Iteration:     3, Loss: 2.24856672, Accuracy: 15.57%\n",
      "Iteration:     4, Loss: 2.21644358, Accuracy: 17.63%\n",
      "Iteration:     5, Loss: 2.18575493, Accuracy: 20.15%\n",
      "Iteration:     6, Loss: 2.15654697, Accuracy: 23.05%\n",
      "Iteration:     7, Loss: 2.12867626, Accuracy: 25.71%\n",
      "Iteration:     8, Loss: 2.10194868, Accuracy: 28.01%\n",
      "Iteration:     9, Loss: 2.07612408, Accuracy: 30.43%\n",
      "Iteration:    10, Loss: 2.05107999, Accuracy: 32.59%\n",
      "Iteration:    11, Loss: 2.02659361, Accuracy: 34.80%\n",
      "Iteration:    12, Loss: 2.00269148, Accuracy: 36.79%\n",
      "Iteration:    13, Loss: 1.97951256, Accuracy: 38.90%\n",
      "Iteration:    14, Loss: 1.95733520, Accuracy: 40.69%\n",
      "Iteration:    15, Loss: 1.93584443, Accuracy: 42.25%\n",
      "Iteration:    16, Loss: 1.91493267, Accuracy: 44.08%\n",
      "Iteration:    17, Loss: 1.89446780, Accuracy: 45.84%\n",
      "Iteration:    18, Loss: 1.87448440, Accuracy: 47.43%\n",
      "Iteration:    19, Loss: 1.85515802, Accuracy: 48.62%\n",
      "Iteration:    20, Loss: 1.83639547, Accuracy: 50.00%\n",
      "Iteration:    21, Loss: 1.81817736, Accuracy: 51.39%\n",
      "Iteration:    22, Loss: 1.80051996, Accuracy: 52.58%\n",
      "Iteration:    23, Loss: 1.78333691, Accuracy: 53.77%\n",
      "Iteration:    24, Loss: 1.76669236, Accuracy: 54.83%\n",
      "Iteration:    25, Loss: 1.75047436, Accuracy: 55.92%\n",
      "Iteration:    26, Loss: 1.73460798, Accuracy: 56.80%\n",
      "Iteration:    27, Loss: 1.71909287, Accuracy: 57.75%\n",
      "Iteration:    28, Loss: 1.70378023, Accuracy: 58.62%\n",
      "Iteration:    29, Loss: 1.68879531, Accuracy: 59.51%\n",
      "Iteration:    30, Loss: 1.67407202, Accuracy: 60.41%\n",
      "Iteration:    31, Loss: 1.65962233, Accuracy: 61.25%\n",
      "Iteration:    32, Loss: 1.64555119, Accuracy: 62.01%\n",
      "Iteration:    33, Loss: 1.63181937, Accuracy: 62.63%\n",
      "Iteration:    34, Loss: 1.61843550, Accuracy: 63.26%\n",
      "Iteration:    35, Loss: 1.60535684, Accuracy: 63.78%\n",
      "Iteration:    36, Loss: 1.59250520, Accuracy: 64.45%\n",
      "Iteration:    37, Loss: 1.57988115, Accuracy: 64.99%\n",
      "Iteration:    38, Loss: 1.56748802, Accuracy: 65.50%\n",
      "Iteration:    39, Loss: 1.55532175, Accuracy: 65.97%\n",
      "Iteration:    40, Loss: 1.54337068, Accuracy: 66.44%\n",
      "Iteration:    41, Loss: 1.53162517, Accuracy: 66.91%\n",
      "Iteration:    42, Loss: 1.52010003, Accuracy: 67.34%\n",
      "Iteration:    43, Loss: 1.50875827, Accuracy: 67.71%\n",
      "Iteration:    44, Loss: 1.49759828, Accuracy: 68.10%\n",
      "Iteration:    45, Loss: 1.48669371, Accuracy: 68.59%\n",
      "Iteration:    46, Loss: 1.47605039, Accuracy: 68.94%\n",
      "Iteration:    47, Loss: 1.46567927, Accuracy: 69.45%\n",
      "Iteration:    48, Loss: 1.45556248, Accuracy: 69.80%\n",
      "Iteration:    49, Loss: 1.44560640, Accuracy: 70.15%\n",
      "Iteration:    50, Loss: 1.43575704, Accuracy: 70.43%\n",
      "Iteration:    51, Loss: 1.42602737, Accuracy: 70.64%\n",
      "Iteration:    52, Loss: 1.41647086, Accuracy: 70.99%\n",
      "Iteration:    53, Loss: 1.40707575, Accuracy: 71.22%\n",
      "Iteration:    54, Loss: 1.39782954, Accuracy: 71.65%\n",
      "Iteration:    55, Loss: 1.38873639, Accuracy: 71.78%\n",
      "Iteration:    56, Loss: 1.37977242, Accuracy: 72.15%\n",
      "Iteration:    57, Loss: 1.37090122, Accuracy: 72.33%\n",
      "Iteration:    58, Loss: 1.36210777, Accuracy: 72.58%\n",
      "Iteration:    59, Loss: 1.35340947, Accuracy: 72.77%\n",
      "Iteration:    60, Loss: 1.34485042, Accuracy: 73.06%\n",
      "Iteration:    61, Loss: 1.33644798, Accuracy: 73.32%\n",
      "Iteration:    62, Loss: 1.32817946, Accuracy: 73.56%\n",
      "Iteration:    63, Loss: 1.32003487, Accuracy: 73.79%\n",
      "Iteration:    64, Loss: 1.31201314, Accuracy: 74.02%\n",
      "Iteration:    65, Loss: 1.30412178, Accuracy: 74.12%\n",
      "Iteration:    66, Loss: 1.29636227, Accuracy: 74.24%\n",
      "Iteration:    67, Loss: 1.28873246, Accuracy: 74.41%\n",
      "Iteration:    68, Loss: 1.28122810, Accuracy: 74.65%\n",
      "Iteration:    69, Loss: 1.27383224, Accuracy: 74.86%\n",
      "Iteration:    70, Loss: 1.26653140, Accuracy: 74.99%\n",
      "Iteration:    71, Loss: 1.25932087, Accuracy: 75.34%\n",
      "Iteration:    72, Loss: 1.25219262, Accuracy: 75.47%\n",
      "Iteration:    73, Loss: 1.24514063, Accuracy: 75.55%\n",
      "Iteration:    74, Loss: 1.23816991, Accuracy: 75.77%\n",
      "Iteration:    75, Loss: 1.23127152, Accuracy: 75.94%\n",
      "Iteration:    76, Loss: 1.22444050, Accuracy: 76.19%\n",
      "Iteration:    77, Loss: 1.21769036, Accuracy: 76.37%\n",
      "Iteration:    78, Loss: 1.21102168, Accuracy: 76.51%\n",
      "Iteration:    79, Loss: 1.20442267, Accuracy: 76.64%\n",
      "Iteration:    80, Loss: 1.19788809, Accuracy: 76.75%\n",
      "Iteration:    81, Loss: 1.19142120, Accuracy: 76.85%\n",
      "Iteration:    82, Loss: 1.18502532, Accuracy: 77.07%\n",
      "Iteration:    83, Loss: 1.17870231, Accuracy: 77.21%\n",
      "Iteration:    84, Loss: 1.17246344, Accuracy: 77.35%\n",
      "Iteration:    85, Loss: 1.16630616, Accuracy: 77.52%\n",
      "Iteration:    86, Loss: 1.16023590, Accuracy: 77.71%\n",
      "Iteration:    87, Loss: 1.15425412, Accuracy: 77.88%\n",
      "Iteration:    88, Loss: 1.14835387, Accuracy: 78.09%\n",
      "Iteration:    89, Loss: 1.14251722, Accuracy: 78.09%\n",
      "Iteration:    90, Loss: 1.13675972, Accuracy: 78.29%\n",
      "Iteration:    91, Loss: 1.13108779, Accuracy: 78.39%\n",
      "Iteration:    92, Loss: 1.12548301, Accuracy: 78.54%\n",
      "Iteration:    93, Loss: 1.11994978, Accuracy: 78.64%\n",
      "Iteration:    94, Loss: 1.11448713, Accuracy: 78.74%\n",
      "Iteration:    95, Loss: 1.10909087, Accuracy: 78.87%\n",
      "Iteration:    96, Loss: 1.10376251, Accuracy: 78.99%\n",
      "Iteration:    97, Loss: 1.09849713, Accuracy: 79.10%\n",
      "Iteration:    98, Loss: 1.09329031, Accuracy: 79.22%\n",
      "Iteration:    99, Loss: 1.08813446, Accuracy: 79.31%\n"
     ]
    }
   ],
   "execution_count": 13
  },
  {
   "metadata": {
    "ExecuteTime": {
     "end_time": "2025-06-18T17:31:20.236810Z",
     "start_time": "2025-06-18T17:31:20.221174Z"
    }
   },
   "cell_type": "code",
   "source": [
    "print(w1)\n",
    "print(w2)"
   ],
   "id": "a94aa7058874c6e7",
   "outputs": [
    {
     "name": "stdout",
     "output_type": "stream",
     "text": [
      "[[ 0.05162173 -0.03023771 -0.04310985 ... -0.010163   -0.00430564\n",
      "   0.08982188]\n",
      " [-0.0217868   0.01178297 -0.01793243 ...  0.04624392 -0.01365108\n",
      "  -0.05524647]\n",
      " [ 0.0198322  -0.00358735  0.06486401 ...  0.07618474 -0.02434776\n",
      "  -0.04543778]\n",
      " ...\n",
      " [ 0.03700753  0.05320312 -0.02076367 ...  0.00054639 -0.02269359\n",
      "   0.03802853]\n",
      " [ 0.01295202  0.03103425 -0.00055659 ...  0.01238319 -0.0121352\n",
      "   0.02741806]\n",
      " [ 0.00097961  0.04138505 -0.04826775 ... -0.03503055 -0.02407938\n",
      "  -0.03981946]]\n",
      "[[-0.01671718  0.09499725 -0.03150037 ...  0.01335058  0.11298123\n",
      "   0.00046816]\n",
      " [ 0.05776637  0.04056804  0.05107486 ...  0.09308027  0.02082196\n",
      "  -0.05994849]\n",
      " [-0.0054144  -0.00817088 -0.00209857 ... -0.11771839 -0.05430207\n",
      "   0.14740506]\n",
      " ...\n",
      " [-0.01183251  0.08004866  0.0054544  ...  0.14391199 -0.12213731\n",
      "   0.05736615]\n",
      " [-0.03627847  0.12815373 -0.03222209 ... -0.11658027  0.00107409\n",
      "  -0.0710196 ]\n",
      " [-0.03500207 -0.02463722 -0.10988329 ... -0.02183653  0.06300199\n",
      "  -0.07086191]]\n"
     ]
    }
   ],
   "execution_count": 14
  }
 ],
 "metadata": {
  "kernelspec": {
   "display_name": "Python 3",
   "language": "python",
   "name": "python3"
  },
  "language_info": {
   "codemirror_mode": {
    "name": "ipython",
    "version": 2
   },
   "file_extension": ".py",
   "mimetype": "text/x-python",
   "name": "python",
   "nbconvert_exporter": "python",
   "pygments_lexer": "ipython2",
   "version": "2.7.6"
  }
 },
 "nbformat": 4,
 "nbformat_minor": 5
}
