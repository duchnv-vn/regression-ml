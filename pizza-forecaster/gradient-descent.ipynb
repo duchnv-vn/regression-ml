{
 "cells": [
  {
   "cell_type": "code",
   "id": "initial_id",
   "metadata": {
    "collapsed": true,
    "ExecuteTime": {
     "end_time": "2025-05-25T09:28:10.533472Z",
     "start_time": "2025-05-25T09:28:09.923720Z"
    }
   },
   "source": [
    "import numpy as np\n",
    "import matplotlib.pyplot as plt\n",
    "import seaborn as sea\n",
    "from PIL.ImageGrab import grab\n",
    "\n",
    "\n",
    "def predict(X, w, b):\n",
    "    return X * w + b\n",
    "\n",
    "\n",
    "def loss(X, Y, w, b):\n",
    "    return np.average((predict(X, w, b) - Y) ** 2)\n",
    "\n",
    "\n",
    "def gradient(X, Y, w, b):\n",
    "    w_gradient = 2 * np.average(X * (predict(X, w, b) - Y))\n",
    "    b_gradient = 2 * np.average(predict(X, w, b) - Y)\n",
    "    return w_gradient, b_gradient\n",
    "\n",
    "\n",
    "def train(X, Y, iterations, lr):\n",
    "    w = b = 0\n",
    "    for i in range(iterations):\n",
    "        if i % 5000 == 0:\n",
    "            print(\"Iteration %4d => Loss: %.10f\" % (i, loss(X, Y, w, b)))\n",
    "        w_gradient, b_gradient = gradient(X, Y, w, b)\n",
    "        w -= w_gradient * lr\n",
    "        b -= b_gradient * lr\n",
    "    return w, b\n",
    "\n",
    "\n",
    "reservations, pizzas = np.loadtxt(\"pizza.txt\", skiprows=1, unpack=True)\n",
    "w, b = train(X=reservations, Y=pizzas, iterations=20000, lr=0.001)\n",
    "print(\"\\nw=%.10f, b=%.10f\" % (w, b))\n",
    "print(\"Prediction: x=%d => y=%.2f\" % (20, predict(20, w, b)))"
   ],
   "outputs": [
    {
     "name": "stdout",
     "output_type": "stream",
     "text": [
      "Iteration    0 => Loss: 812.8666666667\n",
      "Iteration 5000 => Loss: 23.0660254210\n",
      "Iteration 10000 => Loss: 22.8438317248\n",
      "Iteration 15000 => Loss: 22.8427421050\n",
      "\n",
      "w=1.0811301700, b=13.1722676564\n",
      "Prediction: x=20 => y=34.79\n"
     ]
    }
   ],
   "execution_count": 1
  },
  {
   "metadata": {},
   "cell_type": "code",
   "outputs": [],
   "execution_count": null,
   "source": "",
   "id": "519d41c5e0e3bfb"
  }
 ],
 "metadata": {
  "kernelspec": {
   "display_name": "Python 3",
   "language": "python",
   "name": "python3"
  },
  "language_info": {
   "codemirror_mode": {
    "name": "ipython",
    "version": 2
   },
   "file_extension": ".py",
   "mimetype": "text/x-python",
   "name": "python",
   "nbconvert_exporter": "python",
   "pygments_lexer": "ipython2",
   "version": "2.7.6"
  }
 },
 "nbformat": 4,
 "nbformat_minor": 5
}
