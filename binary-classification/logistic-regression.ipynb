{
 "cells": [
  {
   "cell_type": "code",
   "id": "initial_id",
   "metadata": {
    "collapsed": true,
    "ExecuteTime": {
     "end_time": "2025-05-28T16:04:36.227603Z",
     "start_time": "2025-05-28T16:04:36.217415Z"
    }
   },
   "source": [
    "import numpy as np\n",
    "\n",
    "\n",
    "# Applying Logistic Regression\n",
    "def sigmoid(z):\n",
    "    return 1 / (1 + np.exp(-z))\n",
    "\n",
    "\n",
    "# Performing Forward-Propagation\n",
    "def forward(X, w):\n",
    "    weighted_sum = np.matmul(X, w)\n",
    "    return sigmoid(weighted_sum)\n",
    "\n",
    "\n",
    "def classify(X, w):\n",
    "    return np.round(forward(X, w))\n",
    "\n",
    "\n",
    "# Computing Loss over using logistic regression\n",
    "def loss(X, Y, w):\n",
    "    y_hat = forward(X, w)\n",
    "    first_term = Y * np.log(y_hat)\n",
    "    second_term = (1 - Y) * np.log(1 - y_hat)\n",
    "    return -np.average(first_term + second_term)\n",
    "\n",
    "\n",
    "# Calculating gradient\n",
    "def gradient(X, Y, w):\n",
    "    return (np.matmul(X.T, (forward(X, w) - Y))) / X.shape[0]\n",
    "\n",
    "\n",
    "def train(X, Y, iter, lr):\n",
    "    w = np.zeros((X.shape[1], 1))\n",
    "    for i in range(iter):\n",
    "        if (i % 2000 == 0 or i == 9999):\n",
    "            print(\"Iteration %4d => Loss: %.20f\" % (i, loss(X, Y, w)))\n",
    "        w -= gradient(X, Y, w) * lr\n",
    "    return w\n",
    "\n",
    "\n",
    "def test(X, Y, w):\n",
    "    total_examples = X.shape[0]\n",
    "    correct_results = np.sum(classify(X, w) == Y)\n",
    "    success_percent = correct_results * 100 / total_examples\n",
    "    print(\"\\nSuccess: %d/%d (%.2f%%)\" %\n",
    "          (correct_results, total_examples, success_percent))"
   ],
   "outputs": [],
   "execution_count": 3
  },
  {
   "metadata": {
    "ExecuteTime": {
     "end_time": "2025-05-28T16:04:36.462994Z",
     "start_time": "2025-05-28T16:04:36.233622Z"
    }
   },
   "cell_type": "code",
   "source": [
    "# Prepare data\n",
    "x1, x2, x3, y = np.loadtxt(\"police.txt\", skiprows=1, unpack=True)\n",
    "X = np.column_stack((np.ones(x1.size), x1, x2, x3))\n",
    "Y = y.reshape(-1, 1)\n",
    "w = train(X, Y, iter=10000, lr=0.001)\n",
    "\n",
    "# Test it\n",
    "test(X, Y, w)"
   ],
   "id": "a988d68cae376636",
   "outputs": [
    {
     "name": "stdout",
     "output_type": "stream",
     "text": [
      "Iteration    0 => Loss: 0.69314718055994495316\n",
      "Iteration 2000 => Loss: 0.38325599672775223503\n",
      "Iteration 4000 => Loss: 0.37387854860947766777\n",
      "Iteration 6000 => Loss: 0.37044524956911051294\n",
      "Iteration 8000 => Loss: 0.36797484381092532280\n",
      "Iteration 9999 => Loss: 0.36572874687292944440\n",
      "\n",
      "Success: 25/30 (83.33%)\n"
     ]
    }
   ],
   "execution_count": 4
  }
 ],
 "metadata": {
  "kernelspec": {
   "display_name": "Python 3",
   "language": "python",
   "name": "python3"
  },
  "language_info": {
   "codemirror_mode": {
    "name": "ipython",
    "version": 2
   },
   "file_extension": ".py",
   "mimetype": "text/x-python",
   "name": "python",
   "nbconvert_exporter": "python",
   "pygments_lexer": "ipython2",
   "version": "2.7.6"
  }
 },
 "nbformat": 4,
 "nbformat_minor": 5
}
